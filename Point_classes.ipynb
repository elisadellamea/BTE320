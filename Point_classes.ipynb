{
  "nbformat": 4,
  "nbformat_minor": 0,
  "metadata": {
    "colab": {
      "provenance": [],
      "authorship_tag": "ABX9TyOG6iq1uqn2kAL0py99GiaG",
      "include_colab_link": true
    },
    "kernelspec": {
      "name": "python3",
      "display_name": "Python 3"
    },
    "language_info": {
      "name": "python"
    }
  },
  "cells": [
    {
      "cell_type": "markdown",
      "metadata": {
        "id": "view-in-github",
        "colab_type": "text"
      },
      "source": [
        "<a href=\"https://colab.research.google.com/github/elisadellamea/BTE320/blob/main/Point_classes.ipynb\" target=\"_parent\"><img src=\"https://colab.research.google.com/assets/colab-badge.svg\" alt=\"Open In Colab\"/></a>"
      ]
    },
    {
      "cell_type": "code",
      "execution_count": 1,
      "metadata": {
        "id": "FvRkSd61i4Po"
      },
      "outputs": [],
      "source": [
        "class Point:\n",
        "  def __init__(self, x, y):\n",
        "    self.x = x\n",
        "    self.y = y\n",
        "  def distance(self, other):\n",
        "    x_diff = (self.x - other.x)**2\n",
        "    y_diff = (self.y - other.y)**2\n",
        "    d = (x_diff + y_diff)**0.5\n",
        "    return d"
      ]
    },
    {
      "cell_type": "code",
      "source": [
        "A = Point(4,5)\n",
        "B = Point(7,9)\n",
        "A.distance(B)"
      ],
      "metadata": {
        "colab": {
          "base_uri": "https://localhost:8080/"
        },
        "id": "D9kp9hy-i8sj",
        "outputId": "958e125e-604f-41cb-8965-76b65b3cf8fa"
      },
      "execution_count": 2,
      "outputs": [
        {
          "output_type": "execute_result",
          "data": {
            "text/plain": [
              "5.0"
            ]
          },
          "metadata": {},
          "execution_count": 2
        }
      ]
    },
    {
      "cell_type": "code",
      "source": [
        "class Point3D(Point):\n",
        "  def __init__(self, x, y, z):\n",
        "    super().__init__(x, y)\n",
        "    self.z = z\n",
        "  def distance(self, other):\n",
        "    x_diff = (self.x - other.x)**2\n",
        "    y_diff = (self.y - other.y)**2\n",
        "    z_diff = (self.z - other.z)**2\n",
        "    d = (x_diff + y_diff + z_diff)**0.5\n",
        "    return d"
      ],
      "metadata": {
        "id": "wHvNjolLi-1r"
      },
      "execution_count": 3,
      "outputs": []
    },
    {
      "cell_type": "code",
      "source": [
        "C = Point3D(3,5,6)\n",
        "D = Point3D(1,9,4)\n",
        "\n",
        "C.distance(D)"
      ],
      "metadata": {
        "colab": {
          "base_uri": "https://localhost:8080/"
        },
        "id": "gLhCVf9gjC4j",
        "outputId": "4756ddb2-4675-4005-d7e6-368a30154345"
      },
      "execution_count": 4,
      "outputs": [
        {
          "output_type": "execute_result",
          "data": {
            "text/plain": [
              "4.898979485566356"
            ]
          },
          "metadata": {},
          "execution_count": 4
        }
      ]
    }
  ]
}