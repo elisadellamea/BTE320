{
  "nbformat": 4,
  "nbformat_minor": 0,
  "metadata": {
    "colab": {
      "provenance": [],
      "include_colab_link": true
    },
    "kernelspec": {
      "name": "python3",
      "display_name": "Python 3"
    },
    "language_info": {
      "name": "python"
    }
  },
  "cells": [
    {
      "cell_type": "markdown",
      "metadata": {
        "id": "view-in-github",
        "colab_type": "text"
      },
      "source": [
        "<a href=\"https://colab.research.google.com/github/elisadellamea/BTE320/blob/main/Elisa_Della_Mea_Assignment_2.ipynb\" target=\"_parent\"><img src=\"https://colab.research.google.com/assets/colab-badge.svg\" alt=\"Open In Colab\"/></a>"
      ]
    },
    {
      "cell_type": "markdown",
      "source": [
        "# Problem Set 1"
      ],
      "metadata": {
        "id": "mqKVIuY-mxNU"
      }
    },
    {
      "cell_type": "markdown",
      "source": [
        "## Assignment 1: Quality Control (7 points)\n",
        "\n",
        "A quality control manager would like to find the average weight of a list of weights. Prior experience indicates that the first two measures are atypical, and the practice is to exclude these from the average calculation.\n",
        "\n",
        "Write a program that calculates the average of a list of numbers that given as inputs from the user, excluding the first two values.\n",
        "\n",
        "For your program, you must define and use the following functions:\n",
        "- `getValues(n)`: Prompt the user for `n` values, returns the list\n",
        "- `calcAverage(alist)`: Calculates the average from the list"
      ],
      "metadata": {
        "id": "-RSYW1jVm08n"
      }
    },
    {
      "cell_type": "code",
      "execution_count": null,
      "metadata": {
        "id": "AqbgJkgNmvQw"
      },
      "outputs": [],
      "source": [
        "def getValues(n):\n",
        "  l=[]\n",
        "  if n < 3:\n",
        "    print('Not enough weights')\n",
        "    return None\n",
        "  else:\n",
        "    for i in range(n):\n",
        "      l.append(float(input('Enter a weight: ')))\n",
        "    return l[2:]\n",
        "\n",
        "def calcAverage(alist):\n",
        "  print(sum(alist) / len(alist))"
      ]
    },
    {
      "cell_type": "code",
      "source": [
        "n_weights = int(input('Enter number of weights to be added to the list: '))\n",
        "calcAverage(getValues(n_weights))"
      ],
      "metadata": {
        "colab": {
          "base_uri": "https://localhost:8080/"
        },
        "id": "cnVLlzTrkUk5",
        "outputId": "44656c0a-74b5-4540-da4b-937e7b12ec72"
      },
      "execution_count": null,
      "outputs": [
        {
          "output_type": "stream",
          "name": "stdout",
          "text": [
            "Enter number of weights to be added to the list: 5\n",
            "Enter a weight: 4\n",
            "Enter a weight: 5\n",
            "Enter a weight: 6\n",
            "Enter a weight: 8\n",
            "Enter a weight: 4\n",
            "6.0\n"
          ]
        }
      ]
    },
    {
      "cell_type": "markdown",
      "source": [
        "## Assignment 2: Country Statistics Lookup-Multiple Measures (6 points)\n",
        "\n",
        "Assume a program begins with the statement:\n",
        "\n",
        "```python\n",
        "allData = { # dictionary of values for countries\n",
        "    'US': {'pop':325.7, 'gdp': 19.39, 'ccy': 'USD', 'fx':  1.0},\n",
        "    'CA': {'pop': 36.5, 'gdp':  1.65, 'ccy': 'CAD', 'fx':  1.35},\n",
        "    'MX': {'pop':129.2, 'gdp':  1.15, 'ccy': 'MXN', 'fx': 19.68}\n",
        "    }\n",
        "```\n",
        "\n",
        "Write subsequent statements that (in a loop) prompt the user for a country code (`US`, `CA`, or `MX`), then prompt for a measure name (`pop`, `gdp`, `ccy`, or `fx`), then look up in the above dictionary for the corresponding value, and display it.\n",
        "\n",
        "Example run:\n",
        "```\n",
        "Please enter a country code: CA\n",
        "Please enter a statistic: pop\n",
        "CA pop = 36.5\n",
        "```\n",
        "\n",
        "Your program should handle the cases where a user-entered country code or measure name is not found."
      ],
      "metadata": {
        "id": "QFO0Kzx8ncnv"
      }
    },
    {
      "cell_type": "code",
      "source": [
        "allData = { # dictionary of values for countries\n",
        "    'US': {'pop':325.7, 'gdp': 19.39, 'ccy': 'USD', 'fx':  1.0},\n",
        "    'CA': {'pop': 36.5, 'gdp':  1.65, 'ccy': 'CAD', 'fx':  1.35},\n",
        "    'MX': {'pop':129.2, 'gdp':  1.15, 'ccy': 'MXN', 'fx': 19.68}\n",
        "    }\n",
        "\n",
        "while True:\n",
        "  country_code = input(\"Please enter a country code (or type \\\"exit\\\" to stop): \")\n",
        "  if country_code == \"exit\":\n",
        "    break\n",
        "  if country_code not in allData.keys():\n",
        "    print(f\"This country code is not available: {country_code}\")\n",
        "    continue\n",
        "  stat = input(\"Please enter a statistic: \")\n",
        "  if stat not in allData[country_code].keys():\n",
        "    print(f\"Unknown statistic: {stat}\")\n",
        "    continue\n",
        "\n",
        "  if stat == \"pop\":\n",
        "   cc = allData[country_code]\n",
        "   st = cc[stat]\n",
        "   print(f\"Population: {st} million people.\")\n",
        "  elif stat == \"gdp\":\n",
        "   cc = allData[country_code]\n",
        "   st = cc[stat]\n",
        "   print(f\"GDP: {st} trillion USD.\")\n",
        "  elif stat == \"ccy\":\n",
        "   cc = allData[country_code]\n",
        "   st = cc[stat]\n",
        "   print(f\"Currency: {st}.\")\n",
        "  else:\n",
        "   cc = allData[country_code]\n",
        "   st = cc[stat]\n",
        "   print(f\"FX: {st}.\")"
      ],
      "metadata": {
        "id": "NZFjRINKowEW",
        "colab": {
          "base_uri": "https://localhost:8080/",
          "height": 0
        },
        "outputId": "b3eace3e-d2f3-4cda-dc56-83a6a2601fa4"
      },
      "execution_count": 11,
      "outputs": [
        {
          "name": "stdout",
          "output_type": "stream",
          "text": [
            "Please enter a country code (or type \"exit\" to stop): US\n",
            "Please enter a statistic: money\n",
            "Unknown statistic: money\n",
            "Please enter a country code (or type \"exit\" to stop): US\n",
            "Please enter a statistic: pop\n",
            "Population: 325.7 million people.\n",
            "Please enter a country code (or type \"exit\" to stop): CA\n",
            "Please enter a statistic: fx\n",
            "FX: 1.35.\n",
            "Please enter a country code (or type \"exit\" to stop): MX\n",
            "Please enter a statistic: ccy\n",
            "Currency: MXN.\n",
            "Please enter a country code (or type \"exit\" to stop): ITA\n",
            "This country code is not available: ITA\n",
            "Please enter a country code (or type \"exit\" to stop): FRA\n",
            "This country code is not available: FRA\n",
            "Please enter a country code (or type \"exit\" to stop): US\n",
            "Please enter a statistic: gdp\n",
            "GDP: 19.39 trillion USD.\n",
            "Please enter a country code (or type \"exit\" to stop): exit\n"
          ]
        }
      ]
    },
    {
      "cell_type": "markdown",
      "source": [
        "## Assignment 3: Parking Garage (6 points)\n",
        "\n",
        "Write a program to compute the fee for parking in a garage for a number of hours.\n",
        "\n",
        "The program should:\n",
        "- Prompt the user for how many hours parked\n",
        "- Calculate the fee based on the following rules:\n",
        "  - $2.50/hour\n",
        "\n",
        "  - minimum fee is $6.00\n",
        "\n",
        "  - maximum fee is $20.00\n",
        "- Print the result\n",
        "\n",
        "For your program, define and use the following two functions:\n",
        "```python\n",
        "# use input() to prompt for the # of hours parked, return this value\n",
        "def getParkingHours()\n",
        "\n",
        "# takes as input hours (a number), returns the parking fee\n",
        "def calcParkingFee()\n",
        "```"
      ],
      "metadata": {
        "id": "GjaUFrnfpKFf"
      }
    },
    {
      "cell_type": "code",
      "source": [
        "def getParkingHours():\n",
        "  return int(input(\"Enter number of hours parked: \"))\n",
        "\n",
        "def calcParkingFee(h):\n",
        "  hourly_quota = 2.5\n",
        "  min_fee = 6.0\n",
        "  max_fee = 20.0\n",
        "  fee = h*hourly_quota\n",
        "  if fee < min_fee:\n",
        "    return min_fee\n",
        "  elif fee > max_fee:\n",
        "    return max_fee\n",
        "  else:\n",
        "    return fee"
      ],
      "metadata": {
        "id": "5ha4O3V5pwNN"
      },
      "execution_count": null,
      "outputs": []
    },
    {
      "cell_type": "code",
      "source": [
        "fee = calcParkingFee(getParkingHours())\n",
        "print(f\"Total fee: ${fee}\")"
      ],
      "metadata": {
        "colab": {
          "base_uri": "https://localhost:8080/"
        },
        "id": "lYTziWXqRWw8",
        "outputId": "38a2c417-245d-4a04-8b55-a1a6742378ce"
      },
      "execution_count": null,
      "outputs": [
        {
          "output_type": "stream",
          "name": "stdout",
          "text": [
            "Enter number of hours parked: 5\n",
            "Total fee: $12.5\n"
          ]
        }
      ]
    },
    {
      "cell_type": "markdown",
      "source": [
        "## Assignment 4: Tuition (6 points)\n",
        "\n",
        "A college charges tuition according to the following:\n",
        "- 12 or more credits: $20,000/semester\n",
        "\n",
        "- 1-11 credits: $1,200 + $1,700 per credit\n",
        "\n",
        "Write a program that prompts the user for a number of credits and determines and displays the tuition for the semester. As part of your program, define and use the following function:\n",
        "```python\n",
        "def calcTuition(credits)\n",
        "```\n",
        "The function returns the tuition for a given number of credits"
      ],
      "metadata": {
        "id": "gipBObe5qm-2"
      }
    },
    {
      "cell_type": "code",
      "source": [
        "def calcTuition(credits):\n",
        "  if 1 < credits < 11:\n",
        "    tuition = 1200 + 1700*credits\n",
        "  elif credits >= 12:\n",
        "    tuition = 20000\n",
        "  elif credits < 1:\n",
        "    print(\"Invalid number of credits\")\n",
        "  return tuition"
      ],
      "metadata": {
        "id": "BPcn9ywzrL8y"
      },
      "execution_count": null,
      "outputs": []
    },
    {
      "cell_type": "code",
      "source": [
        "credits = int(input(\"Enter the number of credits: \"))\n",
        "tuition = calcTuition(credits)\n",
        "print(f\"Total tuition per semester: ${tuition}\")"
      ],
      "metadata": {
        "colab": {
          "base_uri": "https://localhost:8080/"
        },
        "id": "BAjQ9o63UgVH",
        "outputId": "77d62a1b-c801-4b8f-9fd1-2c3bf22f509b"
      },
      "execution_count": null,
      "outputs": [
        {
          "output_type": "stream",
          "name": "stdout",
          "text": [
            "Enter the number of credits: 5\n",
            "Total tuition per semester: $9700\n"
          ]
        }
      ]
    }
  ]
}
