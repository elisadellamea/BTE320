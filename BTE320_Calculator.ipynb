{
  "nbformat": 4,
  "nbformat_minor": 0,
  "metadata": {
    "colab": {
      "provenance": [],
      "authorship_tag": "ABX9TyNZ6f5BJDDhWnxhYsbkPfzN",
      "include_colab_link": true
    },
    "kernelspec": {
      "name": "python3",
      "display_name": "Python 3"
    },
    "language_info": {
      "name": "python"
    }
  },
  "cells": [
    {
      "cell_type": "markdown",
      "metadata": {
        "id": "view-in-github",
        "colab_type": "text"
      },
      "source": [
        "<a href=\"https://colab.research.google.com/github/elisadellamea/BTE320/blob/main/BTE320_Calculator.ipynb\" target=\"_parent\"><img src=\"https://colab.research.google.com/assets/colab-badge.svg\" alt=\"Open In Colab\"/></a>"
      ]
    },
    {
      "cell_type": "code",
      "execution_count": null,
      "metadata": {
        "colab": {
          "base_uri": "https://localhost:8080/"
        },
        "id": "hc3MoSIw4IWF",
        "outputId": "4ab454de-19fb-4514-9159-8a8d4f1b2e3a"
      },
      "outputs": [
        {
          "output_type": "stream",
          "name": "stdout",
          "text": [
            "Enter the first number involved in the calculation: 3\n",
            "Enter the second number involved in the calculation: 4\n",
            "Enter the operator (+, -, *, /, //, %, **) or break to exit the calculator: minus\n",
            "Invalid operator:  minus\n",
            "Enter the first number involved in the calculation: 9\n",
            "Enter the second number involved in the calculation: 8\n",
            "Enter the operator (+, -, *, /, //, %, **) or break to exit the calculator: +\n",
            "17.0\n",
            "Enter the first number involved in the calculation: 9\n",
            "Enter the second number involved in the calculation: 9\n",
            "Enter the operator (+, -, *, /, //, %, **) or break to exit the calculator: break\n",
            "Goodbye!\n"
          ]
        }
      ],
      "source": [
        "while True:\n",
        "  x = float(input(\"Enter the first number involved in the calculation: \"))\n",
        "  y = float(input(\"Enter the second number involved in the calculation: \"))\n",
        "  operator = input(\"Enter the operator (+, -, *, /, //, %, **) or break to exit the calculator: \")\n",
        "  if operator == \"break\":\n",
        "      print(\"Goodbye!\")\n",
        "      break\n",
        "  if operator == \"+\":\n",
        "      print(x+y)\n",
        "  elif operator == \"-\":\n",
        "      print(x-y)\n",
        "  elif operator == \"*\":\n",
        "      print(x*y)\n",
        "  elif operator == \"/\":\n",
        "      print(x/y)\n",
        "  elif operator == \"//\":\n",
        "      print(x//y)\n",
        "  elif operator == \"%\":\n",
        "      print(x%y)\n",
        "  elif operator == \"**\":\n",
        "      print(x**y)\n",
        "  else:\n",
        "      print(\"Invalid operator: \", operator)\n",
        "      continue\n"
      ]
    }
  ]
}