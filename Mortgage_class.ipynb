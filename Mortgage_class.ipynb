{
  "nbformat": 4,
  "nbformat_minor": 0,
  "metadata": {
    "colab": {
      "provenance": [],
      "authorship_tag": "ABX9TyNl8/tvsgFZEMUoyGUQezRA",
      "include_colab_link": true
    },
    "kernelspec": {
      "name": "python3",
      "display_name": "Python 3"
    },
    "language_info": {
      "name": "python"
    }
  },
  "cells": [
    {
      "cell_type": "markdown",
      "metadata": {
        "id": "view-in-github",
        "colab_type": "text"
      },
      "source": [
        "<a href=\"https://colab.research.google.com/github/elisadellamea/BTE320/blob/main/Mortgage_class.ipynb\" target=\"_parent\"><img src=\"https://colab.research.google.com/assets/colab-badge.svg\" alt=\"Open In Colab\"/></a>"
      ]
    },
    {
      "cell_type": "code",
      "execution_count": 21,
      "metadata": {
        "id": "giCDSGw3qjwa"
      },
      "outputs": [],
      "source": [
        "class Mortgage:\n",
        "  def __init__(self, amount, maturity, interest):\n",
        "    self.amount = amount\n",
        "    self.maturity = maturity\n",
        "    self.__interest = interest\n",
        "\n",
        "  def get_interest(self):\n",
        "    return self.__interest\n",
        "\n",
        "  def set_interest(self, newInterest):\n",
        "    if newInterest >= 0:\n",
        "      self.__interest = newInterest\n",
        "    else:\n",
        "      print('The interest must be non-negative')\n",
        "\n",
        "\n",
        "  def payment(self):\n",
        "    B = self.amount\n",
        "    n = self.maturity*12\n",
        "    r = self.__interest/100\n",
        "    M = B * (r*(1+r)**n) / ((1+r)**n -1)\n",
        "    return M\n",
        "\n",
        "  def __str__(self):\n",
        "    return f'Mortgage info: \\n Initial loan amount ${format(self.amount, \",.2f\")} \\n Maturity term: {self.maturity} years \\n Interest rate: {format(self.__interest,\".2f\")}% '\n"
      ]
    },
    {
      "cell_type": "code",
      "source": [
        "m = Mortgage(100000,30,6)"
      ],
      "metadata": {
        "id": "NopyXii0tTN7"
      },
      "execution_count": 22,
      "outputs": []
    },
    {
      "cell_type": "code",
      "source": [
        "m.set_interest(8)\n",
        "m.get_interest()"
      ],
      "metadata": {
        "colab": {
          "base_uri": "https://localhost:8080/"
        },
        "id": "8N31K0A3yPs3",
        "outputId": "8611a165-81ae-40d9-ecf4-d4d8790dfc09"
      },
      "execution_count": 23,
      "outputs": [
        {
          "output_type": "execute_result",
          "data": {
            "text/plain": [
              "8"
            ]
          },
          "metadata": {},
          "execution_count": 23
        }
      ]
    },
    {
      "cell_type": "code",
      "source": [
        "m.payment()"
      ],
      "metadata": {
        "colab": {
          "base_uri": "https://localhost:8080/"
        },
        "id": "CzObDmZJzOOd",
        "outputId": "9d5dfd23-155a-4a67-d70d-90d5d074a838"
      },
      "execution_count": 24,
      "outputs": [
        {
          "output_type": "execute_result",
          "data": {
            "text/plain": [
              "8000.000000007423"
            ]
          },
          "metadata": {},
          "execution_count": 24
        }
      ]
    },
    {
      "cell_type": "code",
      "source": [
        "print(m)"
      ],
      "metadata": {
        "colab": {
          "base_uri": "https://localhost:8080/"
        },
        "id": "1EDTvkYsNC6P",
        "outputId": "877ab9d3-266f-4b81-94f0-be0e066c032d"
      },
      "execution_count": 25,
      "outputs": [
        {
          "output_type": "stream",
          "name": "stdout",
          "text": [
            "Mortgage info: \n",
            " Initial loan amount $100,000.00 \n",
            " Maturity term: 30 years \n",
            " Interest rate: 8.00% \n"
          ]
        }
      ]
    }
  ]
}