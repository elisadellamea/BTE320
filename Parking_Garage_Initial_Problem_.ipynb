{
  "nbformat": 4,
  "nbformat_minor": 0,
  "metadata": {
    "colab": {
      "provenance": [],
      "authorship_tag": "ABX9TyOPdiQV7Fg4f/8KMJacVu1x",
      "include_colab_link": true
    },
    "kernelspec": {
      "name": "python3",
      "display_name": "Python 3"
    },
    "language_info": {
      "name": "python"
    }
  },
  "cells": [
    {
      "cell_type": "markdown",
      "metadata": {
        "id": "view-in-github",
        "colab_type": "text"
      },
      "source": [
        "<a href=\"https://colab.research.google.com/github/elisadellamea/BTE320/blob/main/Parking_Garage_Initial_Problem_.ipynb\" target=\"_parent\"><img src=\"https://colab.research.google.com/assets/colab-badge.svg\" alt=\"Open In Colab\"/></a>"
      ]
    },
    {
      "cell_type": "code",
      "execution_count": null,
      "metadata": {
        "colab": {
          "base_uri": "https://localhost:8080/"
        },
        "id": "I7vcvGSuDoPp",
        "outputId": "1cad356e-8b46-4fad-c7ce-f99aff23759b"
      },
      "outputs": [
        {
          "output_type": "stream",
          "name": "stdout",
          "text": [
            "Hours of parking: 1    Parking Fee: $10.0\n",
            "Hours of parking: 2    Parking Fee: $10.0\n",
            "Hours of parking: 3    Parking Fee: $12.5\n",
            "Hours of parking: 4    Parking Fee: $15.0\n",
            "Hours of parking: 5    Parking Fee: $17.5\n",
            "Hours of parking: 6    Parking Fee: $20.0\n",
            "Hours of parking: 7    Parking Fee: $20.0\n",
            "Hours of parking: 8    Parking Fee: $20.0\n"
          ]
        }
      ],
      "source": [
        "base_fee = 5\n",
        "hourly_quota = 2.5\n",
        "min_fee = 10.0\n",
        "max_fee = 20.0\n",
        "\n",
        "for i in range(1,9):\n",
        "  hour_rate = base_fee + i*hourly_quota\n",
        "  if hour_rate < min_fee:\n",
        "    print(f\"Hours of parking: {i}    Parking Fee: ${min_fee}\")\n",
        "  elif hour_rate > max_fee:\n",
        "    print(f\"Hours of parking: {i}    Parking Fee: ${max_fee}\")\n",
        "  else:\n",
        "    print(f\"Hours of parking: {i}    Parking Fee: ${hour_rate}\")"
      ]
    },
    {
      "cell_type": "code",
      "source": [
        "base_fee = 5\n",
        "hourly_quota = 2.5\n",
        "min_fee = 10.0\n",
        "max_fee = 20.0\n",
        "\n",
        "from prettytable import PrettyTable\n",
        "\n",
        "parking_fees = PrettyTable([\"Hours of parking\", \"Parking Fee\"])\n",
        "\n",
        "for i in range (1,9):\n",
        "  hour_rate = base_fee + i*hourly_quota\n",
        "  if hour_rate < min_fee:\n",
        "    parking_fees.add_row([i,f\"${min_fee}\"])\n",
        "  elif hour_rate > max_fee:\n",
        "    parking_fees.add_row([i,f\"${max_fee}\"])\n",
        "  else:\n",
        "    parking_fees.add_row([i,f\"${hour_rate}\"])\n",
        "\n",
        "print(parking_fees)"
      ],
      "metadata": {
        "colab": {
          "base_uri": "https://localhost:8080/"
        },
        "id": "HrRFZaKfHQ0N",
        "outputId": "9d7cee5d-472d-4fbe-b789-89dd347af63f"
      },
      "execution_count": null,
      "outputs": [
        {
          "output_type": "stream",
          "name": "stdout",
          "text": [
            "+------------------+-------------+\n",
            "| Hours of parking | Parking Fee |\n",
            "+------------------+-------------+\n",
            "|        1         |    $10.0    |\n",
            "|        2         |    $10.0    |\n",
            "|        3         |    $12.5    |\n",
            "|        4         |    $15.0    |\n",
            "|        5         |    $17.5    |\n",
            "|        6         |    $20.0    |\n",
            "|        7         |    $20.0    |\n",
            "|        8         |    $20.0    |\n",
            "+------------------+-------------+\n"
          ]
        }
      ]
    }
  ]
}