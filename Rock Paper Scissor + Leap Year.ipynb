{
  "nbformat": 4,
  "nbformat_minor": 0,
  "metadata": {
    "colab": {
      "provenance": [],
      "authorship_tag": "ABX9TyML+BUzGlCKP5r9LYYQj2P4",
      "include_colab_link": true
    },
    "kernelspec": {
      "name": "python3",
      "display_name": "Python 3"
    },
    "language_info": {
      "name": "python"
    }
  },
  "cells": [
    {
      "cell_type": "markdown",
      "metadata": {
        "id": "view-in-github",
        "colab_type": "text"
      },
      "source": [
        "<a href=\"https://colab.research.google.com/github/elisadellamea/BTE320/blob/main/BTE320_Game_Exercise.ipynb\" target=\"_parent\"><img src=\"https://colab.research.google.com/assets/colab-badge.svg\" alt=\"Open In Colab\"/></a>"
      ]
    },
    {
      "cell_type": "code",
      "execution_count": null,
      "metadata": {
        "id": "UgaRPV0IUpz7"
      },
      "outputs": [],
      "source": [
        "import random"
      ]
    },
    {
      "cell_type": "code",
      "source": [
        "current_year = 2024\n",
        "year = int(input('Enter a year:'))\n",
        "if (current_year - year)%4 == 0:\n",
        "  print('This is a leap year')\n",
        "else:\n",
        "  print('This is not a leap year')\n"
      ],
      "metadata": {
        "colab": {
          "base_uri": "https://localhost:8080/"
        },
        "id": "kTewR5wqYdGI",
        "outputId": "92519980-51c2-4a0d-828d-db91e59128ba"
      },
      "execution_count": null,
      "outputs": [
        {
          "output_type": "stream",
          "name": "stdout",
          "text": [
            "Enter a year:123456789\n",
            "This is not a leap year\n"
          ]
        }
      ]
    },
    {
      "cell_type": "code",
      "source": [
        "userinput = input(\"Do you want to play a game(y/n)? \")\n",
        "while userinput == \"y\":\n",
        "  choice = input('Enter your choice: ')\n",
        "  pc_choice = random.choice(['rock', 'paper', 'scissors'])\n",
        "  print(pc_choice)\n",
        "\n",
        "  if choice == pc_choice:\n",
        "    print('Tie')\n",
        "  elif (choice == 'scissors' and pc_choice == 'rock') or (choice == 'rock' and pc_choice == 'paper') or (choice == 'paper' and pc_choice == 'scissors'):\n",
        "    print('You lose')\n",
        "  else:\n",
        "    print('You win!')\n",
        "  userinput = input(\"Do you want to play again(y/n)? \")"
      ],
      "metadata": {
        "colab": {
          "base_uri": "https://localhost:8080/"
        },
        "id": "x-oOQkv3aid3",
        "outputId": "e8f486e4-0e75-4d8a-9e2b-48de05214a52"
      },
      "execution_count": null,
      "outputs": [
        {
          "name": "stdout",
          "output_type": "stream",
          "text": [
            "Do you want to play a game (y/n)? y\n",
            "Enter your choice: rock\n",
            "scissors\n",
            "You win!\n",
            "Do you want to play again(y/n)? n\n"
          ]
        }
      ]
    }
  ]
}
