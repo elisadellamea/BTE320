{
  "nbformat": 4,
  "nbformat_minor": 0,
  "metadata": {
    "colab": {
      "provenance": [],
      "authorship_tag": "ABX9TyNn6kjdMGo1Xm7WYwEIOkzh",
      "include_colab_link": true
    },
    "kernelspec": {
      "name": "python3",
      "display_name": "Python 3"
    },
    "language_info": {
      "name": "python"
    }
  },
  "cells": [
    {
      "cell_type": "markdown",
      "metadata": {
        "id": "view-in-github",
        "colab_type": "text"
      },
      "source": [
        "<a href=\"https://colab.research.google.com/github/elisadellamea/BTE320/blob/main/Adding_numbers_to_List.ipynb\" target=\"_parent\"><img src=\"https://colab.research.google.com/assets/colab-badge.svg\" alt=\"Open In Colab\"/></a>"
      ]
    },
    {
      "cell_type": "code",
      "execution_count": 5,
      "metadata": {
        "colab": {
          "base_uri": "https://localhost:8080/"
        },
        "id": "g22kLSIVS1uK",
        "outputId": "7b1d233c-479d-40c7-d593-7df2941df737"
      },
      "outputs": [
        {
          "output_type": "stream",
          "name": "stdout",
          "text": [
            "Enter a value: 4\n",
            "Enter another value: 5\n",
            "Enter another value: 2\n",
            "Enter another value: 7\n",
            "Enter another value: 0\n",
            "[4, 5, 2, 7]\n"
          ]
        }
      ],
      "source": [
        "L = []\n",
        "number = int(input('Enter a value: '))\n",
        "\n",
        "while number != 0:\n",
        "  L.append(number)\n",
        "  number = int(input('Enter another value: '))\n",
        "\n",
        "print(L)"
      ]
    }
  ]
}