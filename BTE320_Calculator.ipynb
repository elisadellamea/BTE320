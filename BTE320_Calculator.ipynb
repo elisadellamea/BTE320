{
  "nbformat": 4,
  "nbformat_minor": 0,
  "metadata": {
    "colab": {
      "provenance": [],
      "authorship_tag": "ABX9TyNBF7xFj3BQoVYd3xuZ6qC7",
      "include_colab_link": true
    },
    "kernelspec": {
      "name": "python3",
      "display_name": "Python 3"
    },
    "language_info": {
      "name": "python"
    }
  },
  "cells": [
    {
      "cell_type": "markdown",
      "metadata": {
        "id": "view-in-github",
        "colab_type": "text"
      },
      "source": [
        "<a href=\"https://colab.research.google.com/github/elisadellamea/BTE320/blob/main/BTE320_Calculator.ipynb\" target=\"_parent\"><img src=\"https://colab.research.google.com/assets/colab-badge.svg\" alt=\"Open In Colab\"/></a>"
      ]
    },
    {
      "cell_type": "code",
      "execution_count": 6,
      "metadata": {
        "colab": {
          "base_uri": "https://localhost:8080/"
        },
        "id": "hc3MoSIw4IWF",
        "outputId": "5e7edee2-56c5-4afe-e418-76c840edee44"
      },
      "outputs": [
        {
          "name": "stdout",
          "output_type": "stream",
          "text": [
            "Enter the first number involved in the calculation: 4\n",
            "Enter the second number involved in the calculation: 2\n",
            "Enter the operator (+, -, *, /, //, %, **) or break to exit the calculator: //\n",
            "2.0\n",
            "Enter the first number involved in the calculation: 3\n",
            "Enter the second number involved in the calculation: 5\n",
            "Enter the operator (+, -, *, /, //, %, **) or break to exit the calculator: **\n",
            "243.0\n",
            "Enter the first number involved in the calculation: 2\n",
            "Enter the second number involved in the calculation: 3\n",
            "Enter the operator (+, -, *, /, //, %, **) or break to exit the calculator: minus\n",
            "Enter the first number involved in the calculation: 3\n",
            "Enter the second number involved in the calculation: 7\n",
            "Enter the operator (+, -, *, /, //, %, **) or break to exit the calculator: *\n",
            "21.0\n",
            "Enter the first number involved in the calculation: 2\n",
            "Enter the second number involved in the calculation: 2\n",
            "Enter the operator (+, -, *, /, //, %, **) or break to exit the calculator: break\n"
          ]
        }
      ],
      "source": [
        "while True:\n",
        "  x = float(input(\"Enter the first number involved in the calculation: \"))\n",
        "  y = float(input(\"Enter the second number involved in the calculation: \"))\n",
        "  operator = input(\"Enter the operator (+, -, *, /, //, %, **) or break to exit the calculator: \")\n",
        "  if operator == \"break\":\n",
        "      break\n",
        "  if operator == \"+\":\n",
        "      print(x+y)\n",
        "  elif operator == \"-\":\n",
        "      print(x-y)\n",
        "  elif operator == \"*\":\n",
        "      print(x*y)\n",
        "  elif operator == \"/\":\n",
        "      print(x/y)\n",
        "  elif operator == \"//\":\n",
        "      print(x//y)\n",
        "  elif operator == \"%\":\n",
        "      print(x%y)\n",
        "  elif operator == \"**\":\n",
        "      print(x**y)\n",
        "  else:\n",
        "      continue\n",
        ""
      ]
    }
  ]
}