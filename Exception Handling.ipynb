{
  "nbformat": 4,
  "nbformat_minor": 0,
  "metadata": {
    "colab": {
      "provenance": [],
      "authorship_tag": "ABX9TyMIzUmiP87+/GZyfSEehGfi",
      "include_colab_link": true
    },
    "kernelspec": {
      "name": "python3",
      "display_name": "Python 3"
    },
    "language_info": {
      "name": "python"
    }
  },
  "cells": [
    {
      "cell_type": "markdown",
      "metadata": {
        "id": "view-in-github",
        "colab_type": "text"
      },
      "source": [
        "<a href=\"https://colab.research.google.com/github/elisadellamea/BTE320/blob/main/Exception_Handling_Avg_function.ipynb\" target=\"_parent\"><img src=\"https://colab.research.google.com/assets/colab-badge.svg\" alt=\"Open In Colab\"/></a>"
      ]
    },
    {
      "cell_type": "code",
      "execution_count": null,
      "metadata": {
        "id": "j9JvvZtfTMpE"
      },
      "outputs": [],
      "source": [
        "def avg(alist):\n",
        "  try:\n",
        "    return sum(alist)/len(alist)\n",
        "  except ZeroDivisionError:\n",
        "    print('The list is empty. Division by zero is not allowed.')\n",
        "    return []\n",
        "  except TypeError:\n",
        "    print('One or more items in the list are not numeric.')\n",
        "    return float('nan')\n",
        "  except:\n",
        "    print('Unknown error')\n",
        "    return alist"
      ]
    },
    {
      "cell_type": "code",
      "source": [
        "L = ['a',4,5,6,7,8,]\n",
        "avg(L)"
      ],
      "metadata": {
        "colab": {
          "base_uri": "https://localhost:8080/"
        },
        "id": "5NN3iU0IUM2O",
        "outputId": "11a9679f-4e93-4be7-d4de-ab363947c50f"
      },
      "execution_count": null,
      "outputs": [
        {
          "output_type": "stream",
          "name": "stdout",
          "text": [
            "One or more items in the list are not numeric\n"
          ]
        }
      ]
    }
  ]
}
